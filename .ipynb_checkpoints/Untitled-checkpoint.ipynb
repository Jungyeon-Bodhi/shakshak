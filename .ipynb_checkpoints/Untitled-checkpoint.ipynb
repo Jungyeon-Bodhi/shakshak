{
 "cells": [
  {
   "cell_type": "code",
   "execution_count": 2,
   "id": "3a4ee513-aefe-4271-9ac3-cdfb93193007",
   "metadata": {},
   "outputs": [],
   "source": [
    "import pandas as pd"
   ]
  },
  {
   "cell_type": "code",
   "execution_count": 6,
   "id": "dc863f4f-5402-40aa-8a26-8a3bea60220d",
   "metadata": {},
   "outputs": [],
   "source": [
    "df = pd.read_excel(\"data/Burkina.xlsx\")"
   ]
  },
  {
   "cell_type": "code",
   "execution_count": 12,
   "id": "920985f5-3d6a-4f7c-b5ca-d9072b45f61b",
   "metadata": {},
   "outputs": [],
   "source": [
    "cols_new = ['start','end', 'today', 'deviceid', 'Consent', 'Consent2', 'con_pic1', 'con_pic2',\n",
    " '1', '2', '3', '4-1','4-2','4-3', 'Enumerator Name2', 'Enumerator Name3', '5-1', '5-2', '5-3', '6', '7', '7-1', '8', '9a', '9-1',\n",
    " '9-2', '9-3', '9-4', '9-5', '9-6', '9-7', '9-8', '9-o',\n",
    " '10', '11-1', '11-3', '12', '12-1', '13', '14a', '14-1', '14-2', '14-3', '14-4', '14-5', '14-6', '14-7', '14-o',\n",
    " '15', '16', '17', '18', '19', '20', 'type_project', '21', '22', '23', '24', '25',\"26\", '26-1', '27', '28', '29',\n",
    " '29-1', '30', '31', '32', '33', '34', '35', '36','37', '38',\n",
    " '39', '40', '41', '42', '43','44', '45', '46', '47','48', '49', '50', '51', '52',\n",
    " '53', '54', '55', '56', '57', '58', '59', '60', '61', '62', '63', '64', '65', '66', '67', '68',\n",
    " '69', '70', '71', '72', '73', '74', '75', '76', '77', '78', '79', '80', '81', '82', '83', '84', '85', '86', \"87\", '88', '89', '90',\n",
    " '91', '92', '93', '94', '95', \"96\", \"97\", '98', '99', '100', '101','102', '103', '104', '105','106',\n",
    " 'old1', 'old2', 'old3', 'old4', '_id', '_uuid', '_submission_time', '_validation_status', '_notes', '_status', '_submitted_by', '__version__',\n",
    " '_tags', '_index']\n",
    "# Specify new column names for data analysis (ensure they match the exact order of the existing columns)\n",
    "\n",
    "list_del_cols = ['9a','14a','start','end','today','deviceid','Enumerator Name','Consent', 'Consent2', 'con_pic1', 'con_pic2','old1', 'old2',\n",
    "        'old3', 'old4', '_id', '_uuid', '_submission_time', '_validation_status', '_notes', '_status', '_submitted_by', '__version__',\n",
    "         '_tags', '_index']\n",
    "# Specify the columns to be excluded from the data analysis\n",
    "\n",
    "miss_col = ['1', '2', '3', '4','6','7', '10', '12', '15', '16','17', '18', '19', '20']\n",
    "# Specify all columns that apply to all respondents for missing value detection\n",
    "\n",
    "open_cols = ['7-1','9-o','11-3-o','12-1','14-o','26-1','28','29-1','30','32','36','38','106']\n",
    "# Specify the open-ended columns (which will be saved in a separate Excel sheet and removed from the data frame)\n",
    "\n",
    "age_col = '1'\n",
    "# If we don't have age group in this dataset, please specify the age columns (as str)\n",
    "\n",
    "diss_cols = ['15','16', '17', '18', '19', '20']\n",
    "# If we have WG-SS questions in the dataset, please specify the columns (as list [])"
   ]
  },
  {
   "cell_type": "code",
   "execution_count": null,
   "id": "c03cf87f-b877-4b9c-8a94-e1c775a373e6",
   "metadata": {},
   "outputs": [],
   "source": [
    "['start', 'end', 'today', 'deviceid', 'audit', 'audit_URL', 'Consent1', 'Consent2','con_pic1', 'con_pic2',\n",
    " '1','2', '3', '4.Burundi', '4.Burkina_Faso', '4-1.Nord', '4-1.Plateau_Central', '4.Mali', '4-2.Burkina', '4-2.Mali',\n",
    " '5-1', '5-2', '5-3', '6', '7-0-1', '7-0-2', '7-1', '8', '9a', '9-1', '9-2', '9-3', '9-4', '9-5', '9-6', '9-7', '9-8', '9-o', '10',\n",
    " '11-1', '11-3', '11-3-o', '12', '12-1', '13', '14a', '14-1', '14-2', '14-3', '14-4', '14-5', '14-6', '14-7', '14-o',\n",
    " '15', '16', '17', '18', '19', '20', 'type_project','21', '22', '23', '24', '25',\"26\", '26-1', '27', '28', '29',\n",
    " '29-1', '30', '31', '32', '33', '34', '35', '36','37', '38', '39', '40', '41', '42', '43','44', '45', '46', '47',\n",
    " '48', '49', '50', '51', '52', '53', '54', '55', '56', '57', '58', '59', '60', '61', '62', '63', '64', '65', '66', '67', '68',\n",
    " '69', '70', '71', '72', '73', '74', '75', '76', '77', '78', '79', '80', '81', '82', '83', '84', '85', '86', \"87\", '88', '89', '90',\n",
    " '91', '92', '93', '94', '95', \"96\", \"97\", '98', '99', '100', '101','102', '103', '104', '105','106',\n",
    " 'Enumerator Name',\n",
    " 'Enumerator Name.1',\n",
    " '4. What is your name?',\n",
    " '11-2. What is your ethnic group? (Burundi)',\n",
    " '21. Are you a member of these groups?',\n",
    " '_id',\n",
    " '_uuid',\n",
    " '_submission_time',\n",
    " '_validation_status',\n",
    " '_notes',\n",
    " '_status',\n",
    " '_submitted_by',\n",
    " '__version__',\n",
    " '_tags',\n",
    " '_index']"
   ]
  }
 ],
 "metadata": {
  "kernelspec": {
   "display_name": "Python [conda env:base] *",
   "language": "python",
   "name": "conda-base-py"
  },
  "language_info": {
   "codemirror_mode": {
    "name": "ipython",
    "version": 3
   },
   "file_extension": ".py",
   "mimetype": "text/x-python",
   "name": "python",
   "nbconvert_exporter": "python",
   "pygments_lexer": "ipython3",
   "version": "3.11.7"
  }
 },
 "nbformat": 4,
 "nbformat_minor": 5
}
